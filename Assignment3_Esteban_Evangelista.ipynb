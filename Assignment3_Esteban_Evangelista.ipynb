{
  "nbformat": 4,
  "nbformat_minor": 0,
  "metadata": {
    "colab": {
      "name": "Assignment3_Esteban_Evangelista.ipynb",
      "provenance": [],
      "collapsed_sections": [],
      "authorship_tag": "ABX9TyPEnpZyewbnxGn/WGTbkBAN",
      "include_colab_link": true
    },
    "kernelspec": {
      "name": "python3",
      "display_name": "Python 3"
    },
    "language_info": {
      "name": "python"
    }
  },
  "cells": [
    {
      "cell_type": "markdown",
      "metadata": {
        "id": "view-in-github",
        "colab_type": "text"
      },
      "source": [
        "<a href=\"https://colab.research.google.com/github/drewmadiesteban/Linear-Algebra_ChE_2nd-Sem-2021-2022/blob/main/Assignment3_Esteban_Evangelista.ipynb\" target=\"_parent\"><img src=\"https://colab.research.google.com/assets/colab-badge.svg\" alt=\"Open In Colab\"/></a>"
      ]
    },
    {
      "cell_type": "markdown",
      "source": [
        "# Linear Algebra for CHE\n",
        "## Assignment 3\n",
        "Now that you have a fundamental knowledge about Phyton, we'll try to look into greater dimensions."
      ],
      "metadata": {
        "id": "MsiOIVTdhP-W"
      }
    },
    {
      "cell_type": "markdown",
      "source": [
        "### Objectives\n",
        "At the end of this activity you will be able to:\n",
        "1. Be familiar with matrices and their relation to linear equations.\n",
        "2. Perform basic matrix operations.\n",
        "3. Program and translate matrix equations and operations using Python.\n"
      ],
      "metadata": {
        "id": "XJnN6hQtKxhc"
      }
    },
    {
      "cell_type": "markdown",
      "source": [
        "# Discussion\n"
      ],
      "metadata": {
        "id": "YoTlZg80K31t"
      }
    },
    {
      "cell_type": "code",
      "source": [
        "import numpy as np\n",
        "import matplotlib.pyplot as plt\n",
        "import scipy.linalg as la\n",
        "%matplotlib inline\n"
      ],
      "metadata": {
        "id": "ISN03cuAK9iL"
      },
      "execution_count": 25,
      "outputs": []
    },
    {
      "cell_type": "markdown",
      "source": [
        "## Matrices"
      ],
      "metadata": {
        "id": "VmjFV41sLdml"
      }
    },
    {
      "cell_type": "markdown",
      "source": [
        "The notation and use of matrices is probably one of the fundamentals of modern computing. Matrices are also handy representations of complex equations or multiple inter-related equations from 2-dimentional equations to even hundreds and thousand of them."
      ],
      "metadata": {
        "id": "8Wdmqa7iLtLn"
      }
    },
    {
      "cell_type": "markdown",
      "source": [
        "Let's say for example you have *A* and *B*  as system of equation."
      ],
      "metadata": {
        "id": "o1NBeCC6LvEJ"
      }
    },
    {
      "cell_type": "markdown",
      "source": [
        "$$\n",
        "A = \\left\\{\n",
        "    \\begin{array}\\\n",
        "        x + y\\\\\n",
        "        4x - 10y\n",
        "    \\end{array}\n",
        "\\right.\\\\\n",
        "B = \\left\\{\n",
        "    \\begin{array}\\\n",
        "      x+y+z \\\\\n",
        "      3x -2y -z \\\\\n",
        "      -x + 4y +2z\n",
        "    \\end{array}\n",
        "\\right. \\\\\n",
        "C = \\left\\{\n",
        "    \\begin{array}\\\n",
        "      w-2x+3y-4z \\\\\n",
        "      3w- x -2y +z \\\\\n",
        "      2w -x + 3y - 2z\n",
        "    \\end{array}\n",
        "\\right. \n",
        "$$"
      ],
      "metadata": {
        "id": "pM_wGQBtYeKE"
      }
    },
    {
      "cell_type": "markdown",
      "source": [
        "We could see that *A* is a system of 2 equations with 2 parameters. while *B* is a system of 3 eqautions with 3 parameters. We can represent them as matrices as:"
      ],
      "metadata": {
        "id": "VtKeOEp_h60Q"
      }
    },
    {
      "cell_type": "markdown",
      "source": [
        "So assuming that you already discussed the fundamental representation of matrices, their types, and operations. We'll proceed in doing them in here in Python."
      ],
      "metadata": {
        "id": "kd9r3YIciEWY"
      }
    },
    {
      "cell_type": "markdown",
      "source": [
        "## Declaring Matrices\n"
      ],
      "metadata": {
        "id": "FiaLBQmM1H51"
      }
    },
    {
      "cell_type": "markdown",
      "source": [
        "$$\n",
        "A=\\begin{bmatrix} 3 & 5 \\\\ 8 & {-10}\\end{bmatrix} \\\\\n",
        "B=\\begin{bmatrix} 13 & 16 & 18 \\\\ 13 & -12 & -11 \\\\ -11 & 14 & 12\\end{bmatrix}\\\\\n",
        "C=\\begin{bmatrix} 31 & -62 & 53 & -84 \\\\ 15 & -26 & -17 & 68 \\\\ 39 & -11 & 33 & -5\\end{bmatrix}\n",
        "$$"
      ],
      "metadata": {
        "id": "KoaOfz7VGJtl"
      }
    },
    {
      "cell_type": "markdown",
      "source": [
        "Just like our previous laboratory activity, we'll represent system of linear equations as a matrix. The entities or numbers in matrices are called the elements of a matrix. These elements are arranged and ordered in rows and columns which form the list/array-like structure of matrices. And just like arrays, these elements are indexed according to their position with respect to their rows and columns. This can be reprsented just like the equation below. Whereas *A* is a matrix consisting of elements denoted by aij . Denoted by i is the number of rows in the matrix while  stands for the number of columns.\n",
        "Do note that the size of a matrix is i x j ."
      ],
      "metadata": {
        "id": "4dE3HhCbGSOM"
      }
    },
    {
      "cell_type": "markdown",
      "source": [
        "$$\n",
        "A=\\begin{bmatrix}\n",
        "a_{(0,0)}&a_{(0,1)}&\\dots&a_{(0,j-1)}\\\\\n",
        "a_{(1,0)}&a_{(1,1)}&\\dots&a_{(1,j-1)}\\\\\n",
        "\\vdots&\\vdots&\\ddots&\\vdots&\\\\\n",
        "a_{(i-1,0)}&a_{(i-1,1)}&\\dots&a_{(i-1,j-1)}\n",
        "\\end{bmatrix}\n",
        "$$\n"
      ],
      "metadata": {
        "id": "GOc8piNJ1Bk9"
      }
    },
    {
      "cell_type": "markdown",
      "source": [
        "We already gone over some of the types of matrices as vectors but we'll further discuss them in this laboratory activity. since you already know how to describe vectors using **shape, dimensions** and **size** attributes. We'll use them to analyze these matrices"
      ],
      "metadata": {
        "id": "21fuk7PHiMPy"
      }
    },
    {
      "cell_type": "code",
      "source": [
        "def describe_mat(matrix):\n",
        "    print(f'Matrix:\\n{matrix}\\n\\nShape:\\t{matrix.shape}\\nRank:\\t{matrix.ndim}\\n')\n"
      ],
      "metadata": {
        "id": "QjkmCS_cQ0E_"
      },
      "execution_count": 26,
      "outputs": []
    },
    {
      "cell_type": "code",
      "source": [
        "A = np.array([\n",
        "    [1, 2],\n",
        "    [3, 1]\n",
        "])\n",
        "describe_mat(A)\n"
      ],
      "metadata": {
        "colab": {
          "base_uri": "https://localhost:8080/"
        },
        "id": "JWIdgigAQ51X",
        "outputId": "3e953b90-deb0-481c-dda3-90025ee4925d"
      },
      "execution_count": 27,
      "outputs": [
        {
          "output_type": "stream",
          "name": "stdout",
          "text": [
            "Matrix:\n",
            "[[1 2]\n",
            " [3 1]]\n",
            "\n",
            "Shape:\t(2, 2)\n",
            "Rank:\t2\n",
            "\n"
          ]
        }
      ]
    },
    {
      "cell_type": "code",
      "source": [
        "import numpy as np\n",
        "import matplotlib.pyplot as plt\n",
        "import scipy.linalg as la\n",
        "%matplotlib inline\n"
      ],
      "metadata": {
        "id": "gN0PogaPSfng"
      },
      "execution_count": 28,
      "outputs": []
    },
    {
      "cell_type": "code",
      "source": [
        "G = np.array([\n",
        "    [1,1,3],\n",
        "    [2,2,4]\n",
        "])\n",
        "describe_mat(G)\n"
      ],
      "metadata": {
        "colab": {
          "base_uri": "https://localhost:8080/"
        },
        "id": "YEPI6HbZSoFd",
        "outputId": "78fa066c-bd54-4298-ee3a-90f7edef046e"
      },
      "execution_count": 29,
      "outputs": [
        {
          "output_type": "stream",
          "name": "stdout",
          "text": [
            "Matrix:\n",
            "[[1 1 3]\n",
            " [2 2 4]]\n",
            "\n",
            "Shape:\t(2, 3)\n",
            "Rank:\t2\n",
            "\n"
          ]
        }
      ]
    },
    {
      "cell_type": "code",
      "source": [
        "## Declaring a 3 x 2 matrix\n",
        "B = np.array([\n",
        "    [8, 2],\n",
        "    [5, 4],\n",
        "    [1, 1]\n",
        "])\n",
        "describe_mat(B)\n"
      ],
      "metadata": {
        "colab": {
          "base_uri": "https://localhost:8080/"
        },
        "id": "I1ekY94cSsOj",
        "outputId": "9a4ca152-a4a1-4c70-93d3-1535d1e1925d"
      },
      "execution_count": 30,
      "outputs": [
        {
          "output_type": "stream",
          "name": "stdout",
          "text": [
            "Matrix:\n",
            "[[8 2]\n",
            " [5 4]\n",
            " [1 1]]\n",
            "\n",
            "Shape:\t(3, 2)\n",
            "Rank:\t2\n",
            "\n"
          ]
        }
      ]
    },
    {
      "cell_type": "code",
      "source": [
        "H = np.array([1,2,3,4])\n",
        "describe_mat(H)\n"
      ],
      "metadata": {
        "colab": {
          "base_uri": "https://localhost:8080/"
        },
        "id": "R0R7sczISvad",
        "outputId": "525a2936-6e3f-42d7-a6c9-50abfded9097"
      },
      "execution_count": 31,
      "outputs": [
        {
          "output_type": "stream",
          "name": "stdout",
          "text": [
            "Matrix:\n",
            "[1 2 3 4]\n",
            "\n",
            "Shape:\t(4,)\n",
            "Rank:\t1\n",
            "\n"
          ]
        }
      ]
    },
    {
      "cell_type": "markdown",
      "source": [
        "# Categorizing Matrices\n",
        "There are several ways of classifying matrices. Once could be according to their **shape** and another is according to their **element values.** We'll try to go through them."
      ],
      "metadata": {
        "id": "KrWvXx2kkdZ3"
      }
    },
    {
      "cell_type": "markdown",
      "source": [
        "## According to shape"
      ],
      "metadata": {
        "id": "rEOrmTlckhDJ"
      }
    },
    {
      "cell_type": "markdown",
      "source": [
        "### Row and Column Matrices\n",
        "Row and column matrices are common in vector and matrix computations. They can also represent row and column spaces of a bigger vector space. Row and column matrices are represented by a single column or single row. So with that being, the shape of row matrices would be 1 x j and column matrices would be i x 1."
      ],
      "metadata": {
        "id": "HkXab8zYkjcQ"
      }
    },
    {
      "cell_type": "code",
      "source": [
        "rowmatrix1D = np.array([\n",
        "    1, 3, 2, -4\n",
        "]) ## this is a 1-D Matrix with a shape of (3,), it's not really considered as a row matrix.\n",
        "row_mat_2D = np.array([\n",
        "    [1,2,3, -4]\n",
        "]) ## this is a 2-D Matrix with a shape of (1,3)\n",
        "describe_mat(rowmatrix1D)\n",
        "describe_mat(row_mat_2D)\n"
      ],
      "metadata": {
        "colab": {
          "base_uri": "https://localhost:8080/"
        },
        "id": "QP1bn4f_UAu7",
        "outputId": "d64ad98a-efec-4360-ef9b-251e7805e8c3"
      },
      "execution_count": 32,
      "outputs": [
        {
          "output_type": "stream",
          "name": "stdout",
          "text": [
            "Matrix:\n",
            "[ 1  3  2 -4]\n",
            "\n",
            "Shape:\t(4,)\n",
            "Rank:\t1\n",
            "\n",
            "Matrix:\n",
            "[[ 1  2  3 -4]]\n",
            "\n",
            "Shape:\t(1, 4)\n",
            "Rank:\t2\n",
            "\n"
          ]
        }
      ]
    },
    {
      "cell_type": "code",
      "source": [
        "col_mat = np.array([\n",
        "    [2],\n",
        "    [6],\n",
        "    [10]\n",
        "]) ## this is a 2-D Matrix with a shape of (3,2)\n",
        "describe_mat(col_mat)\n"
      ],
      "metadata": {
        "colab": {
          "base_uri": "https://localhost:8080/"
        },
        "id": "C2Gj0v3VUsgR",
        "outputId": "322f3cb8-77a9-48a5-804c-a7b8ab811bc0"
      },
      "execution_count": 33,
      "outputs": [
        {
          "output_type": "stream",
          "name": "stdout",
          "text": [
            "Matrix:\n",
            "[[ 2]\n",
            " [ 6]\n",
            " [10]]\n",
            "\n",
            "Shape:\t(3, 1)\n",
            "Rank:\t2\n",
            "\n"
          ]
        }
      ]
    },
    {
      "cell_type": "markdown",
      "source": [
        "### Square Matrices\n",
        "Square matrices are matrices that have the same row and column sizes. We could say a matrix is square if i = j. We can tweak our matrix descriptor function to determine square matrices."
      ],
      "metadata": {
        "id": "0zWgLTtYkw_3"
      }
    },
    {
      "cell_type": "code",
      "source": [
        "def describe_mat(matrix):\n",
        "    is_square = True if matrix.shape[0] == matrix.shape[1] else False \n",
        "    print(f'Matrix:\\n{matrix}\\n\\nShape:\\t{matrix.shape}\\nRank:\\t{matrix.ndim}\\nIs Square: {is_square}\\n')\n"
      ],
      "metadata": {
        "id": "1_BuzlUIVcB4"
      },
      "execution_count": 34,
      "outputs": []
    },
    {
      "cell_type": "code",
      "source": [
        "square_mat = np.array([\n",
        "    [1,2,5],\n",
        "    [3,7,8],\n",
        "    [6,1,2]\n",
        "])\n",
        "\n",
        "non_square_mat = np.array([\n",
        "    [1,2,6],\n",
        "    [3,3,8]\n",
        "])\n",
        "describe_mat(square_mat)\n",
        "describe_mat(non_square_mat)\n"
      ],
      "metadata": {
        "colab": {
          "base_uri": "https://localhost:8080/"
        },
        "id": "JzmjrzDIVj3S",
        "outputId": "40c316cb-29b1-4b09-a1e0-ca0cc64023f9"
      },
      "execution_count": 35,
      "outputs": [
        {
          "output_type": "stream",
          "name": "stdout",
          "text": [
            "Matrix:\n",
            "[[1 2 5]\n",
            " [3 7 8]\n",
            " [6 1 2]]\n",
            "\n",
            "Shape:\t(3, 3)\n",
            "Rank:\t2\n",
            "Is Square: True\n",
            "\n",
            "Matrix:\n",
            "[[1 2 6]\n",
            " [3 3 8]]\n",
            "\n",
            "Shape:\t(2, 3)\n",
            "Rank:\t2\n",
            "Is Square: False\n",
            "\n"
          ]
        }
      ]
    },
    {
      "cell_type": "markdown",
      "source": [
        "### According to element values"
      ],
      "metadata": {
        "id": "hTQS-43zk_Cr"
      }
    },
    {
      "cell_type": "markdown",
      "source": [
        "#### Null Matrix\n",
        "A Null matrix is a matrix that has no rows and no columns. It is used when you are analyzing a data set and you want to know what the dimensions of the data set are. \n"
      ],
      "metadata": {
        "id": "3gei906Mk_3j"
      }
    },
    {
      "cell_type": "code",
      "source": [
        "def describe_mat(matrix):\n",
        "    if matrix.size > 0:\n",
        "        is_square = True if matrix.shape[0] == matrix.shape[1] else False \n",
        "        print(f'Matrix:\\n{matrix}\\n\\nShape:\\t{matrix.shape}\\nRank:\\t{matrix.ndim}\\nIs Square: {is_square}\\n')\n",
        "    else:\n",
        "        print('Matrix is Null')\n"
      ],
      "metadata": {
        "id": "CCMKJw7OWgcw"
      },
      "execution_count": 36,
      "outputs": []
    },
    {
      "cell_type": "code",
      "source": [
        "null_mat = np.array([])\n",
        "describe_mat(null_mat)\n",
        "\n"
      ],
      "metadata": {
        "colab": {
          "base_uri": "https://localhost:8080/"
        },
        "id": "AL_jA_HvWWqs",
        "outputId": "2e1886a0-1ce8-4a45-e816-815332140a20"
      },
      "execution_count": 37,
      "outputs": [
        {
          "output_type": "stream",
          "name": "stdout",
          "text": [
            "Matrix is Null\n"
          ]
        }
      ]
    },
    {
      "cell_type": "markdown",
      "source": [
        "## Zero Matrix"
      ],
      "metadata": {
        "id": "d6hoFTFsXRvY"
      }
    },
    {
      "cell_type": "markdown",
      "source": [
        "A zero matrix can be any rectangular matrix but will all elements having a value of 0."
      ],
      "metadata": {
        "id": "_4j8LsFiXSt0"
      }
    },
    {
      "cell_type": "code",
      "source": [
        "zero_mat_row = np.zeros((1,2))\n",
        "zero_mat_sqr = np.zeros((2,2))\n",
        "zero_mat_rct = np.zeros((3,2))\n",
        "\n",
        "print(f'Zero Row Matrix: \\n{zero_mat_row}')\n",
        "print(f'Zero Square Matrix: \\n{zero_mat_sqr}')\n",
        "print(f'Zero Rectangular Matrix: \\n{zero_mat_rct}')\n"
      ],
      "metadata": {
        "colab": {
          "base_uri": "https://localhost:8080/"
        },
        "id": "CG3wHKDFXY-Z",
        "outputId": "eaa5d93c-1ca1-4159-a35d-3354ad00ae30"
      },
      "execution_count": 38,
      "outputs": [
        {
          "output_type": "stream",
          "name": "stdout",
          "text": [
            "Zero Row Matrix: \n",
            "[[0. 0.]]\n",
            "Zero Square Matrix: \n",
            "[[0. 0.]\n",
            " [0. 0.]]\n",
            "Zero Rectangular Matrix: \n",
            "[[0. 0.]\n",
            " [0. 0.]\n",
            " [0. 0.]]\n"
          ]
        }
      ]
    },
    {
      "cell_type": "markdown",
      "source": [
        "### Ones Matrix"
      ],
      "metadata": {
        "id": "pACR1XN6lYds"
      }
    },
    {
      "cell_type": "markdown",
      "source": [
        "A ones matrix, just like the zero matrix, can be any rectangular matrix but all of its elements are 1s instead of 0s"
      ],
      "metadata": {
        "id": "_SY5jxneXr7d"
      }
    },
    {
      "cell_type": "code",
      "source": [
        "ones_mat_row = np.ones((1,2))\n",
        "ones_mat_sqr = np.ones((2,2))\n",
        "ones_mat_rct = np.ones((3,2))\n",
        "\n",
        "print(f'Ones Row Matrix: \\n{ones_mat_row}')\n",
        "print(f'Ones Square Matrix: \\n{ones_mat_sqr}')\n",
        "print(f'Ones Rectangular Matrix: \\n{ones_mat_rct}')\n"
      ],
      "metadata": {
        "colab": {
          "base_uri": "https://localhost:8080/"
        },
        "id": "ZM-VaQJ-XpM2",
        "outputId": "23e9c383-49b4-42a6-f4a9-2000fe7aef90"
      },
      "execution_count": 39,
      "outputs": [
        {
          "output_type": "stream",
          "name": "stdout",
          "text": [
            "Ones Row Matrix: \n",
            "[[1. 1.]]\n",
            "Ones Square Matrix: \n",
            "[[1. 1.]\n",
            " [1. 1.]]\n",
            "Ones Rectangular Matrix: \n",
            "[[1. 1.]\n",
            " [1. 1.]\n",
            " [1. 1.]]\n"
          ]
        }
      ]
    },
    {
      "cell_type": "markdown",
      "source": [
        "## Diagonal Matrix"
      ],
      "metadata": {
        "id": "tWfsoMtJX4P-"
      }
    },
    {
      "cell_type": "markdown",
      "source": [
        "A diagonal matrix is a square matrix that has values only at the diagonal of the matrix"
      ],
      "metadata": {
        "id": "ndXrqyr3X7Hi"
      }
    },
    {
      "cell_type": "code",
      "source": [
        "np.array([\n",
        "    [2,0,0],\n",
        "    [0,3,0],\n",
        "    [0,0,5]\n",
        "])\n"
      ],
      "metadata": {
        "colab": {
          "base_uri": "https://localhost:8080/"
        },
        "id": "QgV2oamFYB1S",
        "outputId": "0d7571c8-2d45-48b4-df64-52a6c75f86c3"
      },
      "execution_count": 40,
      "outputs": [
        {
          "output_type": "execute_result",
          "data": {
            "text/plain": [
              "array([[2, 0, 0],\n",
              "       [0, 3, 0],\n",
              "       [0, 0, 5]])"
            ]
          },
          "metadata": {},
          "execution_count": 40
        }
      ]
    },
    {
      "cell_type": "code",
      "source": [
        "d = np.diag([2,3,5,7])\n",
        "#d.shape[0] == d.shape[1]\n",
        "d"
      ],
      "metadata": {
        "colab": {
          "base_uri": "https://localhost:8080/"
        },
        "id": "zpgfE7_jYFvv",
        "outputId": "af7f3bad-e774-4ba9-e9c0-cfa23e32d54d"
      },
      "execution_count": 41,
      "outputs": [
        {
          "output_type": "execute_result",
          "data": {
            "text/plain": [
              "array([[2, 0, 0, 0],\n",
              "       [0, 3, 0, 0],\n",
              "       [0, 0, 5, 0],\n",
              "       [0, 0, 0, 7]])"
            ]
          },
          "metadata": {},
          "execution_count": 41
        }
      ]
    },
    {
      "cell_type": "markdown",
      "source": [
        "## Identity Matrix"
      ],
      "metadata": {
        "id": "etf_qy7sYt7i"
      }
    },
    {
      "cell_type": "markdown",
      "source": [
        "An identity matrix is a special diagonal matrix in which the values at the diagonal are ones."
      ],
      "metadata": {
        "id": "IuWFolWCYwVA"
      }
    },
    {
      "cell_type": "code",
      "source": [
        "np.eye(2)"
      ],
      "metadata": {
        "colab": {
          "base_uri": "https://localhost:8080/"
        },
        "id": "zl15CNlFY5Mx",
        "outputId": "d3b66032-b63e-4c79-b002-2e15908c691f"
      },
      "execution_count": 42,
      "outputs": [
        {
          "output_type": "execute_result",
          "data": {
            "text/plain": [
              "array([[1., 0.],\n",
              "       [0., 1.]])"
            ]
          },
          "metadata": {},
          "execution_count": 42
        }
      ]
    },
    {
      "cell_type": "code",
      "source": [
        "np.identity(9)"
      ],
      "metadata": {
        "colab": {
          "base_uri": "https://localhost:8080/"
        },
        "id": "Cj9XfOFoY8ah",
        "outputId": "3d0f98c7-039e-43b7-f85b-3c28a27f8bb2"
      },
      "execution_count": 43,
      "outputs": [
        {
          "output_type": "execute_result",
          "data": {
            "text/plain": [
              "array([[1., 0., 0., 0., 0., 0., 0., 0., 0.],\n",
              "       [0., 1., 0., 0., 0., 0., 0., 0., 0.],\n",
              "       [0., 0., 1., 0., 0., 0., 0., 0., 0.],\n",
              "       [0., 0., 0., 1., 0., 0., 0., 0., 0.],\n",
              "       [0., 0., 0., 0., 1., 0., 0., 0., 0.],\n",
              "       [0., 0., 0., 0., 0., 1., 0., 0., 0.],\n",
              "       [0., 0., 0., 0., 0., 0., 1., 0., 0.],\n",
              "       [0., 0., 0., 0., 0., 0., 0., 1., 0.],\n",
              "       [0., 0., 0., 0., 0., 0., 0., 0., 1.]])"
            ]
          },
          "metadata": {},
          "execution_count": 43
        }
      ]
    },
    {
      "cell_type": "markdown",
      "source": [
        "## Upper Triangular Matrix"
      ],
      "metadata": {
        "id": "LbGGJWcKZM4M"
      }
    },
    {
      "cell_type": "markdown",
      "source": [
        "An upper triangular matrix is a matrix that has no values below the diagonal"
      ],
      "metadata": {
        "id": "SGIcjqpDZRlC"
      }
    },
    {
      "cell_type": "code",
      "source": [
        "np.array([\n",
        "    [1,2,3,5],\n",
        "    [0,3,1,-2],\n",
        "    [0,0,5,3],\n",
        "    [0,0,0,3]\n",
        "])\n"
      ],
      "metadata": {
        "colab": {
          "base_uri": "https://localhost:8080/"
        },
        "id": "C_5kWvBbZXFk",
        "outputId": "f321c3fa-267c-4b1c-8ea5-782a35289415"
      },
      "execution_count": 44,
      "outputs": [
        {
          "output_type": "execute_result",
          "data": {
            "text/plain": [
              "array([[ 1,  2,  3,  5],\n",
              "       [ 0,  3,  1, -2],\n",
              "       [ 0,  0,  5,  3],\n",
              "       [ 0,  0,  0,  3]])"
            ]
          },
          "metadata": {},
          "execution_count": 44
        }
      ]
    },
    {
      "cell_type": "code",
      "source": [
        "F = np.array([\n",
        "              [1, -3, 4, -5, 6],\n",
        "              [2, -3, 4, -5, 6],\n",
        "              [-2, -3, 5, -5, 6],\n",
        "              [-6, -3, 4, -5, 6],\n",
        "              [2, -3, 4, -5, 6],\n",
        "])\n",
        "np.triu(F)\n"
      ],
      "metadata": {
        "colab": {
          "base_uri": "https://localhost:8080/"
        },
        "id": "HeUGEibdZyJl",
        "outputId": "45a540fe-759a-47ca-b32e-4414d47ee95a"
      },
      "execution_count": 45,
      "outputs": [
        {
          "output_type": "execute_result",
          "data": {
            "text/plain": [
              "array([[ 1, -3,  4, -5,  6],\n",
              "       [ 0, -3,  4, -5,  6],\n",
              "       [ 0,  0,  5, -5,  6],\n",
              "       [ 0,  0,  0, -5,  6],\n",
              "       [ 0,  0,  0,  0,  6]])"
            ]
          },
          "metadata": {},
          "execution_count": 45
        }
      ]
    },
    {
      "cell_type": "markdown",
      "source": [
        "### Lower Triangular Matrix"
      ],
      "metadata": {
        "id": "mxEx0hfOaQmM"
      }
    },
    {
      "cell_type": "markdown",
      "source": [
        "A lower triangular matrix is a matrix that has no values above the diagonal"
      ],
      "metadata": {
        "id": "eoonhbRgaWs4"
      }
    },
    {
      "cell_type": "code",
      "source": [
        "np.tril(F)\n"
      ],
      "metadata": {
        "colab": {
          "base_uri": "https://localhost:8080/"
        },
        "id": "ogspdPKsaW7Y",
        "outputId": "ab9dc29a-ff2f-40fa-b225-48d230ebc92e"
      },
      "execution_count": 46,
      "outputs": [
        {
          "output_type": "execute_result",
          "data": {
            "text/plain": [
              "array([[ 1,  0,  0,  0,  0],\n",
              "       [ 2, -3,  0,  0,  0],\n",
              "       [-2, -3,  5,  0,  0],\n",
              "       [-6, -3,  4, -5,  0],\n",
              "       [ 2, -3,  4, -5,  6]])"
            ]
          },
          "metadata": {},
          "execution_count": 46
        }
      ]
    },
    {
      "cell_type": "markdown",
      "source": [
        "## Practice\n",
        "Given the linear combination below, try to create a corresponding matrix representing it.\n"
      ],
      "metadata": {
        "id": "qFiprjf2a7mg"
      }
    },
    {
      "cell_type": "markdown",
      "source": [
        ":$$\\theta = 5x + 3y - z$$\n"
      ],
      "metadata": {
        "id": "M8oHQKyzbIiy"
      }
    },
    {
      "cell_type": "markdown",
      "source": [
        "2. Given the system of linear combinations below, try to encode it as a matrix. Also describe the matrix.\n"
      ],
      "metadata": {
        "id": "f868jKshbC67"
      }
    },
    {
      "cell_type": "markdown",
      "source": [
        "$$\n",
        "A = \\left\\{\\begin{array}\n",
        "5x_1 + 2x_2 +x_3\\\\\n",
        "4x_2 - x_3\\\\\n",
        "10x_3\n",
        "\\end{array}\\right.\n",
        "$$\n"
      ],
      "metadata": {
        "id": "zgRvgh2MbOLn"
      }
    },
    {
      "cell_type": "markdown",
      "source": [
        "$$\n",
        "A = \\left\\{\\begin{array}\n",
        "5x_1 + 2x_2 +x_3\\\\\n",
        "4x_2 - x_3\\\\\n",
        "10x_3\n",
        "\\end{array}\\right.\n",
        "$$\n"
      ],
      "metadata": {
        "id": "t5IhR1QJbPdp"
      }
    },
    {
      "cell_type": "markdown",
      "source": [
        "Given the matrix below, express it as a linear combination in a markdown and a LaTeX markdown\n"
      ],
      "metadata": {
        "id": "GeAt9WofbRSD"
      }
    },
    {
      "cell_type": "markdown",
      "source": [
        "G = np.array([\n",
        "    [1,7,8],\n",
        "    [2,2,2],\n",
        "    [4,6,7]\n",
        "])\n"
      ],
      "metadata": {
        "id": "SMaz9vF-bXEt"
      }
    },
    {
      "cell_type": "code",
      "source": [
        "G = np.array([\n",
        "    [1,7,8],\n",
        "    [2,2,2],\n",
        "    [4,6,7]\n",
        "])"
      ],
      "metadata": {
        "id": "qJxGHRIxbbwr"
      },
      "execution_count": 47,
      "outputs": []
    },
    {
      "cell_type": "markdown",
      "source": [
        "Given the matrix below, display the output as a LaTeX markdown also express it as a system of linear combinations.\n"
      ],
      "metadata": {
        "id": "con4f-YXbfk7"
      }
    },
    {
      "cell_type": "code",
      "source": [
        "H = np.tril(G)\n",
        "H\n",
        "\n",
        "\n"
      ],
      "metadata": {
        "colab": {
          "base_uri": "https://localhost:8080/"
        },
        "id": "Ui_b83w2bgM_",
        "outputId": "8afcc05d-dfde-4549-9309-2bb0cc8606f2"
      },
      "execution_count": 48,
      "outputs": [
        {
          "output_type": "execute_result",
          "data": {
            "text/plain": [
              "array([[1, 0, 0],\n",
              "       [2, 2, 0],\n",
              "       [4, 6, 7]])"
            ]
          },
          "metadata": {},
          "execution_count": 48
        }
      ]
    },
    {
      "cell_type": "markdown",
      "source": [
        "# Matrix Algebra\n",
        "Matrix algebra is the basis of many linear algebra algorithms. This section describes several matrix operations including transposition, matrix inversion, matrix exponentiation, and matrix multiplication. \n"
      ],
      "metadata": {
        "id": "qt9868BHlv2O"
      }
    },
    {
      "cell_type": "markdown",
      "source": [
        "## Addition"
      ],
      "metadata": {
        "id": "I1DySpL6lyQI"
      }
    },
    {
      "cell_type": "code",
      "source": [
        "A = np.array([\n",
        "    [1,5],\n",
        "    [2,7],\n",
        "    [4,8]\n",
        "])\n",
        "B = np.array([\n",
        "    [0,3],\n",
        "    [7,0],\n",
        "    [7,1]\n",
        "])\n",
        "A+B"
      ],
      "metadata": {
        "colab": {
          "base_uri": "https://localhost:8080/"
        },
        "id": "XhMCO2BVl2iH",
        "outputId": "7b1de22b-3da3-4ec3-dc7e-4a75b87b3481"
      },
      "execution_count": 49,
      "outputs": [
        {
          "output_type": "execute_result",
          "data": {
            "text/plain": [
              "array([[ 1,  8],\n",
              "       [ 9,  7],\n",
              "       [11,  9]])"
            ]
          },
          "metadata": {},
          "execution_count": 49
        }
      ]
    },
    {
      "cell_type": "code",
      "source": [
        "2+A ##Broadcasting\n",
        "# 2*np.ones(A.shape)+A"
      ],
      "metadata": {
        "colab": {
          "base_uri": "https://localhost:8080/"
        },
        "id": "ftUpmkTMl5qc",
        "outputId": "4b76776a-a5d9-4dba-ad4a-3f6e0dcb31f4"
      },
      "execution_count": 50,
      "outputs": [
        {
          "output_type": "execute_result",
          "data": {
            "text/plain": [
              "array([[ 3,  7],\n",
              "       [ 4,  9],\n",
              "       [ 6, 10]])"
            ]
          },
          "metadata": {},
          "execution_count": 50
        }
      ]
    },
    {
      "cell_type": "markdown",
      "source": [
        "## Subtraction"
      ],
      "metadata": {
        "id": "lvYY-ijamAHj"
      }
    },
    {
      "cell_type": "code",
      "source": [
        "A-B"
      ],
      "metadata": {
        "colab": {
          "base_uri": "https://localhost:8080/"
        },
        "id": "_W2VK7IhmB7p",
        "outputId": "5b170831-50c7-418d-de3b-7db240f82b34"
      },
      "execution_count": 51,
      "outputs": [
        {
          "output_type": "execute_result",
          "data": {
            "text/plain": [
              "array([[ 1,  2],\n",
              "       [-5,  7],\n",
              "       [-3,  7]])"
            ]
          },
          "metadata": {},
          "execution_count": 51
        }
      ]
    },
    {
      "cell_type": "code",
      "source": [
        "3-B == 3*np.ones(B.shape)-B"
      ],
      "metadata": {
        "colab": {
          "base_uri": "https://localhost:8080/"
        },
        "id": "O0LSVTgemCpB",
        "outputId": "5c2b91de-d71e-4ffe-8112-2dd706395612"
      },
      "execution_count": 52,
      "outputs": [
        {
          "output_type": "execute_result",
          "data": {
            "text/plain": [
              "array([[ True,  True],\n",
              "       [ True,  True],\n",
              "       [ True,  True]])"
            ]
          },
          "metadata": {},
          "execution_count": 52
        }
      ]
    },
    {
      "cell_type": "markdown",
      "source": [
        "# Element-wise Multiplication\n",
        "Multiplying two matrices together element by element is often faster than multiplying them together with a scalar. The code below multiplies together two matrices using element-wise multiplication."
      ],
      "metadata": {
        "id": "EWZsDwrFmHuj"
      }
    },
    {
      "cell_type": "code",
      "source": [
        "A*B\n",
        "np.multiply(A,B)"
      ],
      "metadata": {
        "colab": {
          "base_uri": "https://localhost:8080/"
        },
        "id": "64VNCxM4mInt",
        "outputId": "a4af01f7-abcf-41d6-f311-030f80184f9e"
      },
      "execution_count": 53,
      "outputs": [
        {
          "output_type": "execute_result",
          "data": {
            "text/plain": [
              "array([[ 0, 15],\n",
              "       [14,  0],\n",
              "       [28,  8]])"
            ]
          },
          "metadata": {},
          "execution_count": 53
        }
      ]
    },
    {
      "cell_type": "code",
      "source": [
        "2*A"
      ],
      "metadata": {
        "colab": {
          "base_uri": "https://localhost:8080/"
        },
        "id": "Qut4axcLmKrf",
        "outputId": "ef285143-89c2-4987-b068-495bd888ea03"
      },
      "execution_count": null,
      "outputs": [
        {
          "output_type": "execute_result",
          "data": {
            "text/plain": [
              "array([[ 2, 10],\n",
              "       [ 4, 14],\n",
              "       [ 8, 16]])"
            ]
          },
          "metadata": {},
          "execution_count": 13
        }
      ]
    },
    {
      "cell_type": "code",
      "source": [
        "alpha=10**-10\n",
        "A/(alpha+B)"
      ],
      "metadata": {
        "colab": {
          "base_uri": "https://localhost:8080/"
        },
        "id": "Gs3K1tSJmMAL",
        "outputId": "933706bb-1702-44c7-cb7a-1a4a81dc50d1"
      },
      "execution_count": null,
      "outputs": [
        {
          "output_type": "execute_result",
          "data": {
            "text/plain": [
              "array([[1.00000000e+10, 1.66666667e+00],\n",
              "       [2.85714286e-01, 7.00000000e+10],\n",
              "       [5.71428571e-01, 8.00000000e+00]])"
            ]
          },
          "metadata": {},
          "execution_count": 14
        }
      ]
    },
    {
      "cell_type": "code",
      "source": [
        "np.add(A,B)"
      ],
      "metadata": {
        "colab": {
          "base_uri": "https://localhost:8080/"
        },
        "id": "3nCBxqs-mNR-",
        "outputId": "73ff3d20-a1c9-4678-a32e-cac27c94c6dd"
      },
      "execution_count": null,
      "outputs": [
        {
          "output_type": "execute_result",
          "data": {
            "text/plain": [
              "array([[ 1,  8],\n",
              "       [ 9,  7],\n",
              "       [11,  9]])"
            ]
          },
          "metadata": {},
          "execution_count": 15
        }
      ]
    },
    {
      "cell_type": "markdown",
      "source": [
        "# Activity"
      ],
      "metadata": {
        "id": "e9pG08drmS0n"
      }
    },
    {
      "cell_type": "markdown",
      "source": [
        "## Task 1\n",
        "Create a function named mat_desc() that througouhly describes a matrix, it should:\n",
        "\n",
        "1. Displays the shape, size, and rank of the matrix.\n",
        "2. Displays whether the matrix is square or non-square.\n",
        "3. Displays whether the matrix is an empty matrix.\n",
        "4. Displays if the matrix is an identity, ones, or zeros matrix\n",
        "\n",
        "Use 3 sample matrices in which their shapes are not lower than (3,3). In your methodology, create a flowchart discuss the functions and methods you have done. Present your results in the results section showing the description of each matrix you have declared."
      ],
      "metadata": {
        "id": "vjTUElgTmVrV"
      }
    },
    {
      "cell_type": "code",
      "source": [
        "## Function area\n",
        "\n",
        "import numpy as np"
      ],
      "metadata": {
        "id": "y1sUkOb0mWWX"
      },
      "execution_count": 20,
      "outputs": []
    },
    {
      "cell_type": "code",
      "source": [
        "## Matrix Declarations\n",
        "\n",
        "def mat_desc(mat):\n",
        "    sq = False\n",
        "    mat = np.array(mat)\n",
        "    print(mat)\n",
        "    print('Shape:', mat.shape)\n",
        "    print('Size:', mat.size)\n",
        "    print('Rank:', np.linalg.matrix_rank(mat))\n",
        "    if(mat.shape[0] == mat.shape[1]):\n",
        "        sq = True\n",
        "        print('The matrix is square')\n",
        "    else:\n",
        "        print('The matrix is non-square')\n",
        "    if(mat.shape[0] == 0 and mat.shape[1] == 0):\n",
        "        print('The matrix is empty')\n",
        "    else:\n",
        "        print('The matrix is not empty')\n",
        "    iden = np.identity(mat.shape[0])\n",
        "    if(sq and (iden == mat).all()):\n",
        "        print('The matrix is an identity matrix')\n",
        "    else:\n",
        "        print('The matrix is not an identity matrix')\n",
        "    one = np.ones((mat.shape[0], mat.shape[1]))\n",
        "    if((one == mat).all()):\n",
        "        print('The matrix is an ones matrix')\n",
        "    else:\n",
        "        print('The matrix is not an ones matrix')\n",
        "    zero = np.zeros((mat.shape[0], mat.shape[1]))\n",
        "    if((zero == mat).all()):\n",
        "        print('The matrix is an zeros matrix')\n",
        "    else:\n",
        "        print('The matrix is not a zeros matrix')"
      ],
      "metadata": {
        "id": "D-bYELfzmYNU"
      },
      "execution_count": 21,
      "outputs": []
    },
    {
      "cell_type": "code",
      "source": [
        "## Sample Matrices\n",
        "\n",
        "print('Matrix 1:')\n",
        "mat_desc([[3, 9, 5], [1, 4, 6], [6, 3, 7]])\n",
        "print('Matrix 2:')\n",
        "mat_desc([[5, 4, 9], [1, 4, 8], [9, 5, 8]])\n",
        "print('Matrix 3:')\n",
        "mat_desc([[1, 1, 3], [3, 3, 3], [6, 6, 6]])"
      ],
      "metadata": {
        "colab": {
          "base_uri": "https://localhost:8080/"
        },
        "id": "ufLrvJEUmaG8",
        "outputId": "e0b86090-15e7-4ce9-ffc8-e691813ddaa4"
      },
      "execution_count": 22,
      "outputs": [
        {
          "output_type": "stream",
          "name": "stdout",
          "text": [
            "Matrix 1:\n",
            "[[3 9 5]\n",
            " [1 4 6]\n",
            " [6 3 7]]\n",
            "Shape: (3, 3)\n",
            "Size: 9\n",
            "Rank: 3\n",
            "The matrix is square\n",
            "The matrix is not empty\n",
            "The matrix is not an identity matrix\n",
            "The matrix is not an ones matrix\n",
            "The matrix is not a zeros matrix\n",
            "Matrix 2:\n",
            "[[5 4 9]\n",
            " [1 4 8]\n",
            " [9 5 8]]\n",
            "Shape: (3, 3)\n",
            "Size: 9\n",
            "Rank: 3\n",
            "The matrix is square\n",
            "The matrix is not empty\n",
            "The matrix is not an identity matrix\n",
            "The matrix is not an ones matrix\n",
            "The matrix is not a zeros matrix\n",
            "Matrix 3:\n",
            "[[1 1 3]\n",
            " [3 3 3]\n",
            " [6 6 6]]\n",
            "Shape: (3, 3)\n",
            "Size: 9\n",
            "Rank: 2\n",
            "The matrix is square\n",
            "The matrix is not empty\n",
            "The matrix is not an identity matrix\n",
            "The matrix is not an ones matrix\n",
            "The matrix is not a zeros matrix\n"
          ]
        }
      ]
    },
    {
      "cell_type": "markdown",
      "source": [
        "## Task 2"
      ],
      "metadata": {
        "id": "L_rMNPY-mi4B"
      }
    },
    {
      "cell_type": "markdown",
      "source": [
        "Create a  function named mat_operations() tht takes in two matrices in ynpyt marameters it should:\n",
        "1. Determines if the matrices are vaable for operation and returns your own error message if they are not viable.\n",
        "2. Returns the sum of the matrices.\n",
        "3. Returns the difference of the matrices.\n",
        "4. Returns the element-wise multiplication of the matrices.\n",
        "5. Returns the element-wise division of the matrices.\n",
        "\n",
        "Use 3 sample matrices in which their shapes are not lower than (3,3). In your methodology, create a flowchart discuss the functions and methods you have done. Present your results in the results section showing the description of each matrix you have declared."
      ],
      "metadata": {
        "id": "-tgITLmsmjUw"
      }
    },
    {
      "cell_type": "code",
      "source": [
        "def mat_operations(mat1, mat2):\n",
        "    mat1 = np.array(mat1)\n",
        "    mat2 = np.array(mat2)\n",
        "    print('Matrix 1:', mat1)\n",
        "    print('Matrix 2:', mat2)\n",
        "    if(mat1.shape != mat2.shape):\n",
        "          print('The shape of both matrices are not same. Could not perform operations.')\n",
        "          return\n",
        "    print('Sum of the given matrices:')\n",
        "    msum = mat1 + mat2\n",
        "    print(msum)\n",
        "    print('Difference of the given matrices:')\n",
        "    mdiff = mat1 - mat2\n",
        "    print(mdiff)\n",
        "    print('Element-wise multiplication of the given matrices:')\n",
        "    mmul = np.multiply(mat1, mat2)\n",
        "    print(mmul)\n",
        "    print('Element-wise division of the given matrices:')\n",
        "    mmul = np.divide(mat1, mat2)\n",
        "    print(mmul)"
      ],
      "metadata": {
        "id": "BnFkUuutmpfd"
      },
      "execution_count": 12,
      "outputs": []
    },
    {
      "cell_type": "code",
      "source": [
        "print('Sample 1:')\n",
        "mat_operations([[1, 5, 5], [3, 4, 2], [4, 7, 8]], [[4, 4, 4], [5, 3, 3], [2, 2, 2]])\n",
        "print('Sample 2:')\n",
        "mat_operations([[1, 1, 1], [0, 0, 9], [4, 4, 4]], [[1, 1, 1], [6, 6, 6], [6, 6, 6]])\n",
        "print('Sample 3:')\n",
        "mat_operations([[1, 2, 1], [3, 3, 3], [6, 6, 6]], [[1, 1, 1], [7, 8, 7], [9, 8, 0]])"
      ],
      "metadata": {
        "colab": {
          "base_uri": "https://localhost:8080/"
        },
        "id": "vj4jy1Fflos0",
        "outputId": "1cb51387-a1cc-40b9-8ae2-7bca8f63f28b"
      },
      "execution_count": 23,
      "outputs": [
        {
          "output_type": "stream",
          "name": "stdout",
          "text": [
            "Sample 1:\n",
            "Matrix 1: [[1 5 5]\n",
            " [3 4 2]\n",
            " [4 7 8]]\n",
            "Matrix 2: [[4 4 4]\n",
            " [5 3 3]\n",
            " [2 2 2]]\n",
            "Sum of the given matrices:\n",
            "[[ 5  9  9]\n",
            " [ 8  7  5]\n",
            " [ 6  9 10]]\n",
            "Difference of the given matrices:\n",
            "[[-3  1  1]\n",
            " [-2  1 -1]\n",
            " [ 2  5  6]]\n",
            "Element-wise multiplication of the given matrices:\n",
            "[[ 4 20 20]\n",
            " [15 12  6]\n",
            " [ 8 14 16]]\n",
            "Element-wise division of the given matrices:\n",
            "[[0.25       1.25       1.25      ]\n",
            " [0.6        1.33333333 0.66666667]\n",
            " [2.         3.5        4.        ]]\n",
            "Sample 2:\n",
            "Matrix 1: [[1 1 1]\n",
            " [0 0 9]\n",
            " [4 4 4]]\n",
            "Matrix 2: [[1 1 1]\n",
            " [6 6 6]\n",
            " [6 6 6]]\n",
            "Sum of the given matrices:\n",
            "[[ 2  2  2]\n",
            " [ 6  6 15]\n",
            " [10 10 10]]\n",
            "Difference of the given matrices:\n",
            "[[ 0  0  0]\n",
            " [-6 -6  3]\n",
            " [-2 -2 -2]]\n",
            "Element-wise multiplication of the given matrices:\n",
            "[[ 1  1  1]\n",
            " [ 0  0 54]\n",
            " [24 24 24]]\n",
            "Element-wise division of the given matrices:\n",
            "[[1.         1.         1.        ]\n",
            " [0.         0.         1.5       ]\n",
            " [0.66666667 0.66666667 0.66666667]]\n",
            "Sample 3:\n",
            "Matrix 1: [[1 2 1]\n",
            " [3 3 3]\n",
            " [6 6 6]]\n",
            "Matrix 2: [[1 1 1]\n",
            " [7 8 7]\n",
            " [9 8 0]]\n",
            "Sum of the given matrices:\n",
            "[[ 2  3  2]\n",
            " [10 11 10]\n",
            " [15 14  6]]\n",
            "Difference of the given matrices:\n",
            "[[ 0  1  0]\n",
            " [-4 -5 -4]\n",
            " [-3 -2  6]]\n",
            "Element-wise multiplication of the given matrices:\n",
            "[[ 1  2  1]\n",
            " [21 24 21]\n",
            " [54 48  0]]\n",
            "Element-wise division of the given matrices:\n",
            "[[1.         2.         1.        ]\n",
            " [0.42857143 0.375      0.42857143]\n",
            " [0.66666667 0.75              inf]]\n"
          ]
        },
        {
          "output_type": "stream",
          "name": "stderr",
          "text": [
            "/usr/local/lib/python3.7/dist-packages/ipykernel_launcher.py:19: RuntimeWarning: divide by zero encountered in true_divide\n"
          ]
        }
      ]
    }
  ]
}