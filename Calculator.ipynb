{
  "nbformat": 4,
  "nbformat_minor": 0,
  "metadata": {
    "colab": {
      "name": "Calculator.ipynb",
      "provenance": [],
      "authorship_tag": "ABX9TyN92dIFRz57JsegdT9ViDUF",
      "include_colab_link": true
    },
    "kernelspec": {
      "name": "python3",
      "display_name": "Python 3"
    },
    "language_info": {
      "name": "python"
    }
  },
  "cells": [
    {
      "cell_type": "markdown",
      "metadata": {
        "id": "view-in-github",
        "colab_type": "text"
      },
      "source": [
        "<a href=\"https://colab.research.google.com/github/drewmadiesteban/Linear-Algebra_ChE_2nd-Sem-2021-2022/blob/main/Calculator.ipynb\" target=\"_parent\"><img src=\"https://colab.research.google.com/assets/colab-badge.svg\" alt=\"Open In Colab\"/></a>"
      ]
    },
    {
      "cell_type": "code",
      "execution_count": null,
      "metadata": {
        "id": "fuWDqaOyntsc"
      },
      "outputs": [],
      "source": [
        ""
      ]
    },
    {
      "cell_type": "code",
      "source": [
        "name = input(\"Enter your name: \")\n",
        "cn = input(\"Enter your course name: \")\n",
        "pg = input(\"Enter prelim grade: \")\n",
        "mg = input(\"Enter midterm grade: \")\n",
        "fg = input(\"Enter finals grade: \")\n",
        "\n",
        "pg = int(pg)\n",
        "mg = int(mg)\n",
        "fg = int(fg)\n",
        "\n",
        "sem_grade = (pg*0.3) + (mg*0.3) + (fg*0.4)\n",
        "\n",
        "if (sem_grade > 70):\n",
        "  print(\"Good day {}, your semestral grade in {} is: {} 😀\".format(name, cn, sem_grade))\n",
        "\n",
        "elif(sem_grade == 70):\n",
        "  print(\"Good day {}, your semestral grade in {} is: {} 😆\".format(name, cn, sem_grade))\n",
        "\n",
        "else:\n",
        "  print(\"Good day {}, your semestral grade in {} is: {} 😂\".format(name, cn, sem_grade))\n",
        "\n"
      ],
      "metadata": {
        "id": "vNJExQUVn33S",
        "colab": {
          "base_uri": "https://localhost:8080/"
        },
        "outputId": "98af8f92-5538-4d9d-ae5f-e35cc643430d"
      },
      "execution_count": null,
      "outputs": [
        {
          "output_type": "stream",
          "name": "stdout",
          "text": [
            "Enter your name: Drew\n",
            "Enter your course name: CHE\n",
            "Enter prelim grade: 75\n",
            "Enter midterm grade: 80\n",
            "Enter finals grade: 90\n",
            "Good day Drew, your semestral grade in CHE is: 82.5 😀\n"
          ]
        }
      ]
    },
    {
      "cell_type": "code",
      "source": [
        "\"\\U0001F6020\""
      ],
      "metadata": {
        "colab": {
          "base_uri": "https://localhost:8080/",
          "height": 35
        },
        "id": "azNWogdgo1of",
        "outputId": "a674987c-57e6-4f00-c57c-7d42924a3683"
      },
      "execution_count": null,
      "outputs": [
        {
          "output_type": "execute_result",
          "data": {
            "application/vnd.google.colaboratory.intrinsic+json": {
              "type": "string"
            },
            "text/plain": [
              "'😂0'"
            ]
          },
          "metadata": {},
          "execution_count": 7
        }
      ]
    },
    {
      "cell_type": "code",
      "source": [
        ""
      ],
      "metadata": {
        "id": "L1td_R6Lr7na"
      },
      "execution_count": null,
      "outputs": []
    }
  ]
}